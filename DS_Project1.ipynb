{
  "nbformat": 4,
  "nbformat_minor": 0,
  "metadata": {
    "colab": {
      "provenance": [],
      "authorship_tag": "ABX9TyPTRvkJ1iNlIS3DhpdJNoXH",
      "include_colab_link": true
    },
    "kernelspec": {
      "name": "python3",
      "display_name": "Python 3"
    },
    "language_info": {
      "name": "python"
    }
  },
  "cells": [
    {
      "cell_type": "markdown",
      "metadata": {
        "id": "view-in-github",
        "colab_type": "text"
      },
      "source": [
        "<a href=\"https://colab.research.google.com/github/PAC2002/Bengaluru-Price-Data/blob/main/DS_Project1.ipynb\" target=\"_parent\"><img src=\"https://colab.research.google.com/assets/colab-badge.svg\" alt=\"Open In Colab\"/></a>"
      ]
    },
    {
      "cell_type": "code",
      "execution_count": 3,
      "metadata": {
        "id": "WH2X7rERO-UB",
        "colab": {
          "base_uri": "https://localhost:8080/"
        },
        "outputId": "9a2700c8-b955-4959-aaad-ffae6265ce48"
      },
      "outputs": [
        {
          "output_type": "stream",
          "name": "stdout",
          "text": [
            "--2024-07-23 11:11:49--  https://raw.githubusercontent.com/PAC2002/Bengaluru-Price-Data/main/Bengaluru_House_Data.csv\n",
            "Resolving raw.githubusercontent.com (raw.githubusercontent.com)... 185.199.108.133, 185.199.111.133, 185.199.110.133, ...\n",
            "Connecting to raw.githubusercontent.com (raw.githubusercontent.com)|185.199.108.133|:443... connected.\n",
            "HTTP request sent, awaiting response... 200 OK\n",
            "Length: 938020 (916K) [text/plain]\n",
            "Saving to: ‘Bengaluru_House_Data.csv.1’\n",
            "\n",
            "Bengaluru_House_Dat 100%[===================>] 916.04K  --.-KB/s    in 0.08s   \n",
            "\n",
            "2024-07-23 11:11:49 (11.3 MB/s) - ‘Bengaluru_House_Data.csv.1’ saved [938020/938020]\n",
            "\n"
          ]
        }
      ],
      "source": [
        "!wget \"https://raw.githubusercontent.com/PAC2002/Bengaluru-Price-Data/main/Bengaluru_House_Data.csv\""
      ]
    },
    {
      "cell_type": "code",
      "source": [
        "import warnings\n",
        "ignores warnings"
      ],
      "metadata": {
        "id": "RN70ViZdRBHy"
      },
      "execution_count": null,
      "outputs": []
    }
  ]
}